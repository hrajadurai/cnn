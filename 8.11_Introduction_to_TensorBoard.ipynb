{
 "cells": [
  {
   "cell_type": "markdown",
   "metadata": {
    "id": "pmb6HGZKGbHT"
   },
   "source": [
    "# __Introduction to TensorBoard__\n",
    "\n",
    "TensorBoard serves as a tool that provides the measurements and visualizations required throughout the machine learning workflow.\n",
    "\n",
    "It allows for tracking experiment metrics such as loss and accuracy, facilitates the visualization of the model graph, and enables the projection of embeddings into a lower-dimensional space."
   ]
  },
  {
   "cell_type": "markdown",
   "metadata": {
    "id": "w4_LXGX44Kj-"
   },
   "source": [
    "## Steps to be followed:\n",
    "1. Load the TensorBoard and import the necessary libraries\n",
    "2. Import the dataset\n",
    "3. Create the model with dense layers\n",
    "4. Train the model using TensorFlow and Keras callback\n",
    "5. Launch the TensorBoard with parameters"
   ]
  },
  {
   "cell_type": "markdown",
   "metadata": {
    "id": "KK-2Ll2k3zN0"
   },
   "source": [
    "### Step 1: Load the TensorBoard and import the necessary libraries\n",
    "- Load the TensorBoard extension for Jupyter Notebook.\n",
    "- Import the required libraries."
   ]
  },
  {
   "cell_type": "code",
   "execution_count": 1,
   "metadata": {
    "id": "7P2m9gomGbHY"
   },
   "outputs": [],
   "source": [
    "%load_ext tensorboard"
   ]
  },
  {
   "cell_type": "code",
   "execution_count": 2,
   "metadata": {
    "id": "ACbp1bICGbHa"
   },
   "outputs": [
    {
     "name": "stderr",
     "output_type": "stream",
     "text": [
      "2024-08-15 02:06:02.261963: I tensorflow/core/util/port.cc:110] oneDNN custom operations are on. You may see slightly different numerical results due to floating-point round-off errors from different computation orders. To turn them off, set the environment variable `TF_ENABLE_ONEDNN_OPTS=0`.\n",
      "2024-08-15 02:06:02.302997: I tensorflow/core/platform/cpu_feature_guard.cc:182] This TensorFlow binary is optimized to use available CPU instructions in performance-critical operations.\n",
      "To enable the following instructions: AVX2 AVX512F AVX512_VNNI FMA, in other operations, rebuild TensorFlow with the appropriate compiler flags.\n"
     ]
    },
    {
     "name": "stdout",
     "output_type": "stream",
     "text": [
      "VOC-NOTICE: GPU memory for this assignment is capped at 1024MiB\n"
     ]
    },
    {
     "name": "stderr",
     "output_type": "stream",
     "text": [
      "2024-08-15 02:06:04.550486: E tensorflow/compiler/xla/stream_executor/cuda/cuda_driver.cc:268] failed call to cuInit: CUDA_ERROR_NO_DEVICE: no CUDA-capable device is detected\n"
     ]
    }
   ],
   "source": [
    "import tensorflow as tf\n",
    "import datetime, os"
   ]
  },
  {
   "cell_type": "markdown",
   "metadata": {
    "id": "8rPK5qkZGbHa"
   },
   "source": [
    "### About the dataset:\n",
    "\n",
    "Fashion-MNIST is a dataset comprising Zalando's article images. It consists of a training set containing 60,000 and a test set of 10,000 examples."
   ]
  },
  {
   "cell_type": "markdown",
   "metadata": {
    "id": "Dgkl8rWbGbHa"
   },
   "source": [
    "### Step 2: Import the dataset\n",
    "- Load the Fashion MNIST dataset using **tf.keras.datasets.fashion_mnist.**\n",
    "- Split the dataset into training and testing sets, assigning the features to **x_train** and **x_test** and the labels to **y_train** and **y_test.**\n",
    "- Normalize the pixel values of the images by dividing them by 255.0.\n"
   ]
  },
  {
   "cell_type": "code",
   "execution_count": 3,
   "metadata": {
    "colab": {
     "base_uri": "https://localhost:8080/"
    },
    "executionInfo": {
     "elapsed": 2443,
     "status": "ok",
     "timestamp": 1716031360664,
     "user": {
      "displayName": "Vikas Singh",
      "userId": "04375885343580620832"
     },
     "user_tz": -330
    },
    "id": "zge2llr8GbHb",
    "outputId": "74dcf493-cc3b-4004-d194-eec21433a018"
   },
   "outputs": [],
   "source": [
    "fashion_mnist = tf.keras.datasets.fashion_mnist\n",
    "\n",
    "(x_train, y_train),(x_test, y_test) = fashion_mnist.load_data()\n",
    "x_train, x_test = x_train / 255.0, x_test / 255.0"
   ]
  },
  {
   "cell_type": "markdown",
   "metadata": {
    "id": "z_8t6U2y7XeT"
   },
   "source": [
    "### Step 3: Create the model with dense layers\n",
    "- Create a sequential model.\n",
    "- Flatten the input shape to a one-dimensional array.\n",
    "- Add a dense layer with **512** units and ReLU activation.\n",
    "- Add a dropout layer with a rate of **0.2** to prevent overfitting.\n",
    "- Add a dense layer with **10** units and softmax activation for multi-class classification."
   ]
  },
  {
   "cell_type": "code",
   "execution_count": 4,
   "metadata": {
    "id": "j99ZqpRyGbHb"
   },
   "outputs": [],
   "source": [
    "def create_model():\n",
    "  return tf.keras.models.Sequential([\n",
    "    tf.keras.layers.Flatten(input_shape=(28, 28)),\n",
    "    tf.keras.layers.Dense(512, activation='relu'),\n",
    "    tf.keras.layers.Dropout(0.2),\n",
    "    tf.keras.layers.Dense(10, activation='softmax')\n",
    "  ])"
   ]
  },
  {
   "cell_type": "markdown",
   "metadata": {
    "id": "S8mx5cG68E_R"
   },
   "source": [
    "### Step 4: Train the model using TensorFlow and Keras callback\n",
    "- Create a model using the **create_model()** function.\n",
    "- Compile the model with the Adam optimizer, sparse categorical cross-entropy loss, and accuracy as the metric.\n",
    "- Specify the log directory for TensorBoard logs based on the current timestamp.\n",
    "- Create a TensorBoard callback to log histograms for visualization.\n",
    "- Fit the model to the training data (**x_train** and **y_train**) for 10 epochs, with validation data (**x_test** and **y_test**), and use the TensorBoard callback during training.\n",
    "- Evaluate and print the test accuracy and loss."
   ]
  },
  {
   "cell_type": "code",
   "execution_count": 5,
   "metadata": {
    "colab": {
     "base_uri": "https://localhost:8080/"
    },
    "executionInfo": {
     "elapsed": 220193,
     "status": "ok",
     "timestamp": 1716031580854,
     "user": {
      "displayName": "Vikas Singh",
      "userId": "04375885343580620832"
     },
     "user_tz": -330
    },
    "id": "UzJjI7RrGbHc",
    "outputId": "acd91002-b9ef-493c-fd9d-4a5f8607b840"
   },
   "outputs": [
    {
     "name": "stdout",
     "output_type": "stream",
     "text": [
      "Epoch 1/10\n",
      "1875/1875 [==============================] - 8s 4ms/step - loss: 0.4977 - accuracy: 0.8217 - val_loss: 0.4336 - val_accuracy: 0.8413\n",
      "Epoch 2/10\n",
      "1875/1875 [==============================] - 7s 4ms/step - loss: 0.3829 - accuracy: 0.8602 - val_loss: 0.3958 - val_accuracy: 0.8562\n",
      "Epoch 3/10\n",
      "1875/1875 [==============================] - 8s 4ms/step - loss: 0.3500 - accuracy: 0.8723 - val_loss: 0.4034 - val_accuracy: 0.8496\n",
      "Epoch 4/10\n",
      "1875/1875 [==============================] - 8s 4ms/step - loss: 0.3315 - accuracy: 0.8778 - val_loss: 0.3564 - val_accuracy: 0.8707\n",
      "Epoch 5/10\n",
      "1875/1875 [==============================] - 8s 4ms/step - loss: 0.3129 - accuracy: 0.8841 - val_loss: 0.3546 - val_accuracy: 0.8743\n",
      "Epoch 6/10\n",
      "1875/1875 [==============================] - 7s 4ms/step - loss: 0.3012 - accuracy: 0.8875 - val_loss: 0.3473 - val_accuracy: 0.8748\n",
      "Epoch 7/10\n",
      "1875/1875 [==============================] - 8s 4ms/step - loss: 0.2884 - accuracy: 0.8916 - val_loss: 0.3505 - val_accuracy: 0.8763\n",
      "Epoch 8/10\n",
      "1875/1875 [==============================] - 8s 4ms/step - loss: 0.2818 - accuracy: 0.8953 - val_loss: 0.3297 - val_accuracy: 0.8849\n",
      "Epoch 9/10\n",
      "1875/1875 [==============================] - 8s 4ms/step - loss: 0.2720 - accuracy: 0.8976 - val_loss: 0.3429 - val_accuracy: 0.8806\n",
      "Epoch 10/10\n",
      "1875/1875 [==============================] - 8s 4ms/step - loss: 0.2616 - accuracy: 0.9019 - val_loss: 0.3457 - val_accuracy: 0.8784\n",
      "313/313 - 0s - loss: 0.3457 - accuracy: 0.8784 - 396ms/epoch - 1ms/step\n",
      "\n",
      "Test accuracy: 0.8784000277519226\n",
      "Test loss: 0.3457401990890503\n"
     ]
    }
   ],
   "source": [
    "def train_model():\n",
    "\n",
    "  model = create_model()\n",
    "  model.compile(optimizer='adam',\n",
    "                loss='sparse_categorical_crossentropy',\n",
    "                metrics=['accuracy'])\n",
    "\n",
    "  logdir = os.path.join(\"logs\", datetime.datetime.now().strftime(\"%Y%m%d-%H%M%S\"))\n",
    "  tensorboard_callback = tf.keras.callbacks.TensorBoard(logdir, histogram_freq=1)\n",
    "\n",
    "  model.fit(x=x_train,\n",
    "            y=y_train,\n",
    "            epochs=10,\n",
    "            validation_data=(x_test, y_test),\n",
    "            callbacks=[tensorboard_callback])\n",
    "\n",
    "\n",
    "  test_loss, test_acc = model.evaluate(x_test, y_test, verbose=2)\n",
    "  print(\"\\nTest accuracy:\", test_acc)\n",
    "  print(\"Test loss:\", test_loss)\n",
    "\n",
    "train_model()\n"
   ]
  },
  {
   "cell_type": "markdown",
   "metadata": {
    "id": "-UH-sJIqBQxZ"
   },
   "source": [
    "__Observation:__\n",
    "- The output includes the training progress and performance metrics logged by TensorBoard during the training process.\n",
    "- The observed test accuracy of 87.94% and loss of 0.3523 indicate that the model is able to correctly classify approximately 87.94% of the unseen test data, with a moderate level of error represented by the loss value."
   ]
  },
  {
   "cell_type": "markdown",
   "metadata": {
    "id": "2T1Xjux-Hm92"
   },
   "source": [
    "### Step 5: Launch the TensorBoard with parameters\n",
    "- The **--host 0.0.0.0** option specifies the host address to which TensorBoard is bound. In this case, it is set to bind to all available network interfaces.\n",
    "-The **--port 6006** specifies the port number on which TensorBoard will be accessible.\n",
    "- The **--logdir logs** specifies the directory containing the log files generated by TensorFlow, which will be used as the data source for TensorBoard."
   ]
  },
  {
   "cell_type": "code",
   "execution_count": 6,
   "metadata": {
    "colab": {
     "base_uri": "https://localhost:8080/"
    },
    "executionInfo": {
     "elapsed": 10458,
     "status": "ok",
     "timestamp": 1716035527610,
     "user": {
      "displayName": "Vikas Singh",
      "userId": "04375885343580620832"
     },
     "user_tz": -330
    },
    "id": "9v3V-CBnGbHd",
    "outputId": "8cacb39e-4efd-4ff2-b164-e47d690280b4"
   },
   "outputs": [
    {
     "name": "stdout",
     "output_type": "stream",
     "text": [
      "2024-08-15 02:10:57.510507: E tensorflow/compiler/xla/stream_executor/cuda/cuda_driver.cc:268] failed call to cuInit: CUDA_ERROR_NO_DEVICE: no CUDA-capable device is detected\n",
      "VOC-NOTICE: GPU memory for this assignment is capped at 1024MiB\n",
      "/usr/local/lib/python3.10/site-packages/tensorboard_data_server/bin/server: /lib/x86_64-linux-gnu/libc.so.6: version `GLIBC_2.33' not found (required by /usr/local/lib/python3.10/site-packages/tensorboard_data_server/bin/server)\n",
      "/usr/local/lib/python3.10/site-packages/tensorboard_data_server/bin/server: /lib/x86_64-linux-gnu/libc.so.6: version `GLIBC_2.34' not found (required by /usr/local/lib/python3.10/site-packages/tensorboard_data_server/bin/server)\n",
      "/usr/local/lib/python3.10/site-packages/tensorboard_data_server/bin/server: /lib/x86_64-linux-gnu/libc.so.6: version `GLIBC_2.32' not found (required by /usr/local/lib/python3.10/site-packages/tensorboard_data_server/bin/server)\n",
      "TensorBoard 2.13.0 at http://0.0.0.0:6006/ (Press CTRL+C to quit)\n",
      "^C\n"
     ]
    }
   ],
   "source": [
    "!tensorboard --host 0.0.0.0 --port 6006 --logdir logs"
   ]
  },
  {
   "cell_type": "markdown",
   "metadata": {
    "id": "Cx_jQgIJNmRV"
   },
   "source": [
    "__Observations:__\n",
    "- By running this code, TensorBoard is started and can be accessed through a web browser by navigating to the specified host and port.\n",
    "- TensorBoard provides various visualizations and tools for monitoring and analyzing TensorFlow runs, including model graphs, scalars, histograms, and more."
   ]
  }
 ],
 "metadata": {
  "colab": {
   "provenance": []
  },
  "kernelspec": {
   "display_name": "Python 3 [3.10]",
   "language": "python",
   "name": "python3"
  },
  "language_info": {
   "codemirror_mode": {
    "name": "ipython",
    "version": 3
   },
   "file_extension": ".py",
   "mimetype": "text/x-python",
   "name": "python",
   "nbconvert_exporter": "python",
   "pygments_lexer": "ipython3",
   "version": "3.10.2"
  }
 },
 "nbformat": 4,
 "nbformat_minor": 4
}
