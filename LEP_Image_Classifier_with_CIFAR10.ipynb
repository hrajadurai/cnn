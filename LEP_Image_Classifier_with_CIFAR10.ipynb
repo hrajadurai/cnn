{
 "cells": [
  {
   "cell_type": "markdown",
   "metadata": {
    "id": "bvzfagrqdnYK"
   },
   "source": [
    "# __Image Classification with CIFAR10__\n",
    "\n",
    "Build a neural network-based classification model to recognize characters using the following metrics:\n",
    "\n",
    "- Use four convolution layers with a 3X3 kernel and activation function as ReLU.\n",
    "- Add maximum pooling layers after every other convolution layer and two hidden layers with dropout."
   ]
  },
  {
   "cell_type": "markdown",
   "metadata": {
    "id": "gIFsLj8bXZV6"
   },
   "source": [
    "\n",
    "## Steps to be followed:\n",
    "\n",
    "1. Load and normalize the CIFAR10 training and test datasets using torchvision <br>\n",
    "2. Define a convolutional neural network <br>\n",
    "3. Define a loss function <br>\n",
    "4. Train the network on the training data <br>\n",
    "5. Test the network on the test data <br>"
   ]
  },
  {
   "cell_type": "markdown",
   "metadata": {
    "id": "iqG7Jl61g4g6"
   },
   "source": [
    "### Step 1: Load and normalize the CIFAR10 training and test datasets using torchvision\n",
    "- Import the NumPy package.\n",
    "- Import the Python package Matplotlib, which sets the padding between and around the subplots as well as the figure size.\n",
    "- Import the Torch package, which gives us access to some helpful neural types.\n",
    "- Use **torchvision**, as it makes it easy to load CIFAR10."
   ]
  },
  {
   "cell_type": "code",
   "execution_count": null,
   "metadata": {
    "id": "RxTxGezeXZV-"
   },
   "outputs": [],
   "source": [
    "import torch\n",
    "import torchvision\n",
    "import torchvision.transforms as transforms\n"
   ]
  },
  {
   "cell_type": "markdown",
   "metadata": {
    "id": "HmXQal8KjgSb"
   },
   "source": [
    "Evaluating the Data\n",
    "- The output of **torchvision** datasets consists of PILImage images with pixel values ranging from 0 to 1.\n",
    "\n",
    "- To prepare the data for training, transform the PILImage images into Tensors and normalize their values to a range of -1 to 1.\n",
    "\n",
    "- It's important to inspect the data in array form to gain a better understanding of its structure and characteristics.\n",
    "\n",
    "- Plotting the classes helps visualize the distribution and frequency of different classes in the dataset.\n"
   ]
  },
  {
   "cell_type": "code",
   "execution_count": null,
   "metadata": {
    "colab": {
     "base_uri": "https://localhost:8080/"
    },
    "id": "wi7EG7qfXZWB",
    "outputId": "958b4d49-7c51-4df1-da02-0fd8dd41fcf1"
   },
   "outputs": [
    {
     "name": "stdout",
     "output_type": "stream",
     "text": [
      "Downloading https://www.cs.toronto.edu/~kriz/cifar-10-python.tar.gz to ./data/cifar-10-python.tar.gz\n"
     ]
    },
    {
     "name": "stderr",
     "output_type": "stream",
     "text": [
      "100%|██████████| 170498071/170498071 [00:02<00:00, 62942552.59it/s]\n"
     ]
    },
    {
     "name": "stdout",
     "output_type": "stream",
     "text": [
      "Extracting ./data/cifar-10-python.tar.gz to ./data\n",
      "Files already downloaded and verified\n"
     ]
    }
   ],
   "source": [
    "transform = transforms.Compose(\n",
    "    [transforms.ToTensor(),\n",
    "     transforms.Normalize((0.5, 0.5, 0.5), (0.5, 0.5, 0.5))])\n",
    "\n",
    "trainset = torchvision.datasets.CIFAR10(root='./data', train=True,\n",
    "                                        download=True, transform=transform)\n",
    "trainloader = torch.utils.data.DataLoader(trainset, batch_size=4,\n",
    "                                          shuffle=True, num_workers=2)\n",
    "\n",
    "testset = torchvision.datasets.CIFAR10(root='./data', train=False,\n",
    "                                       download=True, transform=transform)\n",
    "testloader = torch.utils.data.DataLoader(testset, batch_size=4,\n",
    "                                         shuffle=False, num_workers=2)\n",
    "\n",
    "classes = ('plane', 'car', 'bird', 'cat',\n",
    "           'deer', 'dog', 'frog', 'horse', 'ship', 'truck')"
   ]
  },
  {
   "cell_type": "markdown",
   "metadata": {
    "id": "RO0-u2UnkpRe"
   },
   "source": [
    "**Observation:**\n",
    "\n",
    "- The CIFAR10 file has been downloaded."
   ]
  },
  {
   "cell_type": "markdown",
   "metadata": {
    "id": "rfAG-E3OocUL"
   },
   "source": [
    "Displaying an Image\n",
    "- Import the necessary libraries, including **matplotlib.pyplot** and **numpy**, for visualizing images.\n",
    "- The **imshow()** function is defined to display an image. It normalizes the pixel values, converts the image to a NumPy array, and uses **plt.imshow()** to show the image.\n",
    "The **dataiter** object is created from the **trainloader** iterator, allowing us to retrieve a batch of images and labels from the dataset.\n",
    "- The first batch of images and their corresponding labels are retrieved using **next (dataiter)**. The **make_grid()** function from **torchvision.utils** is used to create a grid of images, which is then passed to **imshow()** to display the grid of images. The labels of the images are printed using a list comprehension."
   ]
  },
  {
   "cell_type": "code",
   "execution_count": null,
   "metadata": {
    "colab": {
     "base_uri": "https://localhost:8080/",
     "height": 265
    },
    "id": "sBTj9HTnXZWB",
    "outputId": "ad76491a-b3cb-471d-dfa5-7fc6877463d0"
   },
   "outputs": [
    {
     "name": "stderr",
     "output_type": "stream",
     "text": [
      "/usr/lib/python3.10/multiprocessing/popen_fork.py:66: RuntimeWarning: os.fork() was called. os.fork() is incompatible with multithreaded code, and JAX is multithreaded, so this will likely lead to a deadlock.\n",
      "  self.pid = os.fork()\n"
     ]
    },
    {
     "data": {
      "image/png": "[encoded data removed]",
      "text/plain": [
       "<Figure size 640x480 with 1 Axes>"
      ]
     },
     "metadata": {},
     "output_type": "display_data"
    },
    {
     "name": "stdout",
     "output_type": "stream",
     "text": [
      "horse   car   cat  bird\n"
     ]
    }
   ],
   "source": [
    "import matplotlib.pyplot as plt\n",
    "import numpy as np\n",
    "\n",
    "def imshow(img):\n",
    "    img = img / 2 + 0.5\n",
    "    npimg = img.numpy()\n",
    "    plt.imshow(np.transpose(npimg, (1, 2, 0)))\n",
    "    plt.show()\n",
    "\n",
    "\n",
    "\n",
    "dataiter = iter(trainloader)\n",
    "images, labels = next(dataiter)\n",
    "imshow(torchvision.utils.make_grid(images))\n",
    "print(' '.join('%5s' % classes[labels[j]] for j in range(4)))"
   ]
  },
  {
   "cell_type": "markdown",
   "metadata": {
    "id": "fR9_R6EoEPqG"
   },
   "source": [
    "**Observations:**\n",
    "\n",
    "\n",
    "\n",
    "- The output will show an image containing four different objects: two planes, a bird, and a dog.\n",
    "- The **imshow()** function is used to display the image grid, and the labels **plane**, **plane**, **bird**, and **dog** are printed below the image.\n",
    "- This code is useful for visualizing a batch of images and their corresponding labels from a dataset."
   ]
  },
  {
   "cell_type": "markdown",
   "metadata": {
    "id": "3jHLlaYaE82I"
   },
   "source": [
    "### Step 2: Define the convolutional neural network\n",
    "A neural network model called **Net** is defined using the PyTorch **nn.Module** class. The model incorporates multiple layers, such as convolutional layers, pooling layers, and fully connected layers. Below is a breakdown of the code:\n",
    "\n",
    "- The **Net** class is defined as a subclass of **nn.Module**.\n",
    "- The constructor **__init__** initializes the layers of the network, including two convolutional layers, **conv1** and **conv2**, two fully connected layers, **fc1** and **fc2**, and an output layer, **fc3**.\n",
    "- The **forward** method defines the forward pass of the network. It applies convolutional and pooling operations to the input **x**, reshapes it, and passes it through fully connected layers with ReLU activation functions.\n",
    "- An instance of the **Net** class is created and assigned to the variable **net**. This instance represents our neural network model."
   ]
  },
  {
   "cell_type": "code",
   "execution_count": null,
   "metadata": {
    "id": "0seH1HKpXZWC"
   },
   "outputs": [],
   "source": [
    "import torch.nn as nn\n",
    "import torch.nn.functional as F\n",
    "\n",
    "\n",
    "class Net(nn.Module):\n",
    "    def __init__(self):\n",
    "        super(Net, self).__init__()\n",
    "        self.conv1 = nn.Conv2d(3, 6, 5)\n",
    "        self.pool = nn.MaxPool2d(2, 2)\n",
    "        self.conv2 = nn.Conv2d(6, 16, 5)\n",
    "        self.fc1 = nn.Linear(16 * 5 * 5, 120)\n",
    "        self.fc2 = nn.Linear(120, 84)\n",
    "        self.fc3 = nn.Linear(84, 10)\n",
    "\n",
    "    def forward(self, x):\n",
    "        x = self.pool(F.relu(self.conv1(x)))\n",
    "        x = self.pool(F.relu(self.conv2(x)))\n",
    "        x = x.view(-1, 16 * 5 * 5)\n",
    "        x = F.relu(self.fc1(x))\n",
    "        x = F.relu(self.fc2(x))\n",
    "        x = self.fc3(x)\n",
    "        return x\n",
    "\n",
    "\n",
    "net = Net()"
   ]
  },
  {
   "cell_type": "markdown",
   "metadata": {
    "id": "aGc5SFPMHMI8"
   },
   "source": [
    "### Step 3: Define a loss function\n",
    "- The **nn.CrossEntropyLoss()** function is used to define the criterion or loss function for the neural network. It computes the cross-entropy loss, which is commonly used for multi-class classification tasks.\n",
    "- The **optim.SGD()** function is used to define the optimizer for the neural network. It implements the stochastic gradient descent (SGD) optimization algorithm. The optimizer takes the parameters of the network **net.parameters()** and specifies the learning rate **lr = 0.001** and momentum **momentum = 0.9** values for the optimization process.\n",
    "- These components are essential for training the neural network."
   ]
  },
  {
   "cell_type": "code",
   "execution_count": null,
   "metadata": {
    "id": "7jBl3g7CXZWC"
   },
   "outputs": [],
   "source": [
    "import torch.optim as optim\n",
    "\n",
    "criterion = nn.CrossEntropyLoss()\n",
    "optimizer = optim.SGD(net.parameters(), lr=0.001, momentum=0.9)"
   ]
  },
  {
   "cell_type": "markdown",
   "metadata": {
    "id": "uxEyO7T7I74g"
   },
   "source": [
    "### Step 4: Train the network on the training data\n",
    "- The outer loop **for epoch in range(2):** It iterates over a specified number of epochs, which determines how many times the entire training dataset will be passed through the network.\n",
    "- The **running_loss** variable is initialized to keep track of the cumulative loss during each epoch.\n",
    "- The inner loop **for i, data in enumerate(trainloader, 0)** iterates over the batches of data in the **trainloader**, which contains the training dataset divided into batches.\n",
    "- Within each iteration, the **optimizer.zero_grad()** function is called to clear the gradients of the network parameters.\n",
    "- The inputs are passed through the network using **outputs = net(inputs)**, and the predicted outputs are obtained.\n",
    "- The loss between the predicted outputs and the ground truth labels is computed using **loss = criterion(outputs, labels)**, where **criterion** is the cross-entropy loss function defined earlier.\n",
    "- The **loss.backward()** function computes the gradients of the loss with respect to the network parameters.\n",
    "- The **optimizer.step()** function updates the network parameters based on the computed gradients, using the specified optimization algorithm (SGD, in this case).\n",
    "- The **running_loss** is updated by adding the current batch loss.\n",
    "- The average loss over the previous 2000 batches is printed using **print('[%d, %5d] loss: %.3f' % (epoch + 1, i + 1, running_loss / 2000))**.\n",
    "\n",
    "\n",
    "\n"
   ]
  },
  {
   "cell_type": "code",
   "execution_count": null,
   "metadata": {
    "colab": {
     "base_uri": "https://localhost:8080/"
    },
    "id": "nMMUQx-fXZWD",
    "outputId": "0ee14326-38ce-402c-b253-faa60dea6fca"
   },
   "outputs": [
    {
     "name": "stdout",
     "output_type": "stream",
     "text": [
      "[1,  2000] loss: 2.135\n",
      "[1,  4000] loss: 1.792\n",
      "[1,  6000] loss: 1.631\n",
      "[1,  8000] loss: 1.549\n",
      "[1, 10000] loss: 1.486\n",
      "[1, 12000] loss: 1.451\n",
      "[2,  2000] loss: 1.391\n",
      "[2,  4000] loss: 1.353\n",
      "[2,  6000] loss: 1.343\n",
      "[2,  8000] loss: 1.308\n",
      "[2, 10000] loss: 1.306\n",
      "[2, 12000] loss: 1.299\n",
      "Finished Training\n"
     ]
    }
   ],
   "source": [
    "for epoch in range(2):\n",
    "\n",
    "    running_loss = 0.0\n",
    "    for i, data in enumerate(trainloader, 0):\n",
    "        inputs, labels = data\n",
    "        optimizer.zero_grad()\n",
    "\n",
    "        outputs = net(inputs)\n",
    "        loss = criterion(outputs, labels)\n",
    "        loss.backward()\n",
    "        optimizer.step()\n",
    "\n",
    "        running_loss += loss.item()\n",
    "        if i % 2000 == 1999:\n",
    "            print('[%d, %5d] loss: %.3f' %\n",
    "                  (epoch + 1, i + 1, running_loss / 2000))\n",
    "            running_loss = 0.0\n",
    "\n",
    "print('Finished Training')"
   ]
  },
  {
   "cell_type": "markdown",
   "metadata": {
    "id": "2P6ovrHyK-hm"
   },
   "source": [
    "**Observation:**\n",
    "- The statistics are printed for the running loss."
   ]
  },
  {
   "cell_type": "code",
   "execution_count": null,
   "metadata": {
    "id": "bhXTELbyXZWD"
   },
   "outputs": [],
   "source": [
    "PATH = './cifar_net.pth'\n",
    "torch.save(net.state_dict(), PATH)"
   ]
  },
  {
   "cell_type": "markdown",
   "metadata": {
    "id": "u9JEq6dULQuQ"
   },
   "source": [
    "### Step 5: Test the network on the test data\n",
    "- We have trained the network for two passes over the training dataset. But we need to check if the network has learned anything at all.\n",
    "\n",
    "\n",
    "- We will check this by predicting the class label that the neural network outputs and checking it against the **GroundTruth**. If the prediction is correct, we add the sample to the list of correct predictions.\n",
    "\n",
    "\n"
   ]
  },
  {
   "cell_type": "code",
   "execution_count": null,
   "metadata": {
    "colab": {
     "base_uri": "https://localhost:8080/",
     "height": 210
    },
    "id": "hvLvgeojXZWE",
    "outputId": "0ea87ab5-1abf-4a41-b1e4-9249b3fd2799"
   },
   "outputs": [
    {
     "data": {
      "image/png": "[encoded data removed]",
      "text/plain": [
       "<Figure size 640x480 with 1 Axes>"
      ]
     },
     "metadata": {},
     "output_type": "display_data"
    },
    {
     "name": "stdout",
     "output_type": "stream",
     "text": [
      "GroundTruth:    cat  ship  ship plane\n"
     ]
    }
   ],
   "source": [
    "dataiter = iter(testloader)\n",
    "images, labels = next(dataiter)\n",
    "imshow(torchvision.utils.make_grid(images))\n",
    "print('GroundTruth: ', ' '.join('%5s' % classes[labels[j]] for j in range(4)))\n",
    "\n"
   ]
  },
  {
   "cell_type": "markdown",
   "metadata": {
    "id": "4xOVnhxSLkvd"
   },
   "source": [
    "**Observation:**\n",
    " - Image is displayed from the test set of **GroundTruth**, which consists of **cat**, **ship**, **ship,**  and **plane**."
   ]
  },
  {
   "cell_type": "code",
   "execution_count": null,
   "metadata": {
    "colab": {
     "base_uri": "https://localhost:8080/"
    },
    "id": "9hN6p78cXZWF",
    "outputId": "35d5fc6e-ceba-483c-d21a-bc74e6002f9f"
   },
   "outputs": [
    {
     "data": {
      "text/plain": [
       "<All keys matched successfully>"
      ]
     },
     "execution_count": 9,
     "metadata": {},
     "output_type": "execute_result"
    }
   ],
   "source": [
    "net = Net()\n",
    "net.load_state_dict(torch.load(PATH))"
   ]
  },
  {
   "cell_type": "markdown",
   "metadata": {
    "id": "78OtZJfkNPp7"
   },
   "source": [
    "Predicting the neural network:\n",
    "- The outputs are energies for the ten classes. The higher the energy for a class, the more the network thinks that the image is of that particular class."
   ]
  },
  {
   "cell_type": "code",
   "execution_count": null,
   "metadata": {
    "id": "Nil0v351XZWF"
   },
   "outputs": [],
   "source": [
    "outputs = net(images)"
   ]
  },
  {
   "cell_type": "code",
   "execution_count": null,
   "metadata": {
    "colab": {
     "base_uri": "https://localhost:8080/"
    },
    "id": "07t4qYD4XZWF",
    "outputId": "ef55e0c6-cbb3-4e58-bb30-24327e15919e"
   },
   "outputs": [
    {
     "name": "stdout",
     "output_type": "stream",
     "text": [
      "Predicted:    cat  ship  ship plane\n"
     ]
    }
   ],
   "source": [
    "_, predicted = torch.max(outputs, 1)\n",
    "\n",
    "print('Predicted: ', ' '.join('%5s' % classes[predicted[j]]\n",
    "                              for j in range(4)))"
   ]
  },
  {
   "cell_type": "markdown",
   "metadata": {
    "id": "YYo45pkJNxdG"
   },
   "source": [
    "**Observation:**\n",
    "\n",
    "\n",
    "- The predictions of the neural network are **cat**, **plane**, **car**, and **plane**."
   ]
  },
  {
   "cell_type": "markdown",
   "metadata": {
    "id": "hOWiKnPDOHr-"
   },
   "source": [
    "Performing network on the whole dataset:\n",
    "- It initializes the variables **correct** and **total** to keep track of the number of correct predictions and the total number of images, respectively\n",
    "- Then, it enters a loop over the test dataset and performs the following steps for each batch of images:\n",
    "  - Passes the batch of images through the network to obtain the outputs\n",
    "  - Uses the **torch.max** function to get the predicted labels by selecting the class with the highest output score\n",
    "  - Updates the **total** variable by adding the number of images in the current batch\n",
    "  - Updates the **correct** variable by adding the number of correct predictions in the current batch\n",
    "- Finally, it computes the accuracy by dividing the **correct** count by the **total** count, multiplying it by 100 to convert it to a percentage, and printing the result"
   ]
  },
  {
   "cell_type": "code",
   "execution_count": null,
   "metadata": {
    "colab": {
     "base_uri": "https://localhost:8080/"
    },
    "id": "-sYSzUCsXZWF",
    "outputId": "522faedb-1fb0-4eb4-c0bd-6acc0af06182"
   },
   "outputs": [
    {
     "name": "stdout",
     "output_type": "stream",
     "text": [
      "Accuracy of the network on the 10000 test images: 54 %\n"
     ]
    }
   ],
   "source": [
    "correct = 0\n",
    "total = 0\n",
    "with torch.no_grad():\n",
    "    for data in testloader:\n",
    "        images, labels = data\n",
    "        outputs = net(images)\n",
    "        _, predicted = torch.max(outputs.data, 1)\n",
    "        total += labels.size(0)\n",
    "        correct += (predicted == labels).sum().item()\n",
    "\n",
    "print('Accuracy of the network on the 10000 test images: %d %%' % (\n",
    "    100 * correct / total))"
   ]
  },
  {
   "cell_type": "markdown",
   "metadata": {
    "id": "hPPLjcxROfHn"
   },
   "source": [
    "**Observation:**\n",
    "- The accuracy of the network on the whole dataset is 54%."
   ]
  },
  {
   "cell_type": "markdown",
   "metadata": {
    "id": "X9jD1-1bO2MF"
   },
   "source": [
    "Perform Classes on Individual Datasets\n",
    "- Classes iterate over the test dataset and compare the predicted labels with the ground truth labels to determine the number of correct predictions for each class.\n",
    "- They keep track of the total number of instances for each class and calculate the accuracy by dividing the number of correct predictions by the total number of instances for each class."
   ]
  },
  {
   "cell_type": "code",
   "execution_count": null,
   "metadata": {
    "colab": {
     "base_uri": "https://localhost:8080/"
    },
    "id": "hFabtTjjXZWG",
    "outputId": "eb7a95d9-e968-450f-cd14-8a2fd262be65"
   },
   "outputs": [
    {
     "name": "stdout",
     "output_type": "stream",
     "text": [
      "Accuracy of plane : 44 %\n",
      "Accuracy of   car : 50 %\n",
      "Accuracy of  bird : 33 %\n",
      "Accuracy of   cat : 32 %\n",
      "Accuracy of  deer : 59 %\n",
      "Accuracy of   dog : 56 %\n",
      "Accuracy of  frog : 55 %\n",
      "Accuracy of horse : 70 %\n",
      "Accuracy of  ship : 75 %\n",
      "Accuracy of truck : 63 %\n"
     ]
    }
   ],
   "source": [
    "class_correct = list(0. for i in range(10))\n",
    "class_total = list(0. for i in range(10))\n",
    "with torch.no_grad():\n",
    "    for data in testloader:\n",
    "        images, labels = data\n",
    "        outputs = net(images)\n",
    "        _, predicted = torch.max(outputs, 1)\n",
    "        c = (predicted == labels).squeeze()\n",
    "        for i in range(4):\n",
    "            label = labels[i]\n",
    "            class_correct[label] += c[i].item()\n",
    "            class_total[label] += 1\n",
    "\n",
    "\n",
    "for i in range(10):\n",
    "    print('Accuracy of %5s : %2d %%' % (\n",
    "        classes[i], 100 * class_correct[i] / class_total[i]))"
   ]
  },
  {
   "cell_type": "markdown",
   "metadata": {
    "id": "clUl5kKbPtQk"
   },
   "source": [
    "**Observations:**\n",
    "\n",
    "- The model performs relatively well in predicting classes like truck (76%), dog (70%), and plane (64%).\n",
    "- The model struggles more with classes like bird (32%), cat (33%), and frog (51%), where the accuracy is relatively lower.\n",
    "- Some classes, such as car (46%), horse (51%), and deer (58%), show moderate accuracy."
   ]
  }
 ],
 "metadata": {
  "colab": {
   "provenance": []
  },
  "kernelspec": {
   "display_name": "Python 3 [3.10]",
   "language": "python",
   "name": "python3"
  },
  "language_info": {
   "codemirror_mode": {
    "name": "ipython",
    "version": 3
   },
   "file_extension": ".py",
   "mimetype": "text/x-python",
   "name": "python",
   "nbconvert_exporter": "python",
   "pygments_lexer": "ipython3",
   "version": "3.10.2"
  }
 },
 "nbformat": 4,
 "nbformat_minor": 4
}
