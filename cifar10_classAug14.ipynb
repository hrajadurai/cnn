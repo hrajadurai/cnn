{
 "cells": [
  {
   "cell_type": "code",
   "execution_count": 34,
   "id": "1e8db14f-008e-4846-8e52-9b0b8a674e00",
   "metadata": {},
   "outputs": [],
   "source": [
    "from tensorflow.keras.datasets import cifar10"
   ]
  },
  {
   "cell_type": "code",
   "execution_count": 35,
   "id": "1caeee6a-b882-4402-8ad5-f5788d9568db",
   "metadata": {},
   "outputs": [],
   "source": [
    "(x_train,y_train),(x_test,y_test) = cifar10.load_data()"
   ]
  },
  {
   "cell_type": "code",
   "execution_count": null,
   "id": "bfda66b4-e5d4-4e56-9d7e-49ea25208d8d",
   "metadata": {
    "tags": []
   },
   "outputs": [],
   "source": [
    "#Label\tDescription\n",
    "0\t\"airplane\"\n",
    "1\t\"automobile\"\n",
    "2\t\"bird\"\n",
    "3\t\"cat\"\n",
    "4\t\"deer\"\n",
    "5\t\"dog\"\n",
    "6\t\"frog\"\n",
    "7\t\"horse\"\n",
    "8\t\"ship\"\n",
    "9\t\"truck\""
   ]
  },
  {
   "cell_type": "code",
   "execution_count": 19,
   "id": "4ce49269-adf7-43bf-8805-2266dd09ba25",
   "metadata": {},
   "outputs": [],
   "source": [
    "class_names=[\n",
    "    \"airplane\",\n",
    "    \"automobile\",\n",
    "    \"bird\",\n",
    "    \"cat\",\n",
    "    \"deer\",\n",
    "    \"dog\",\n",
    "    \"frog\",\n",
    "    \"horse\",\n",
    "    \"ship\",\n",
    "    \"truck\"\n",
    "]"
   ]
  },
  {
   "cell_type": "code",
   "execution_count": 36,
   "id": "d27348e1-b7c6-424f-941d-3b4e7c018d20",
   "metadata": {},
   "outputs": [],
   "source": [
    "import matplotlib.pyplot as plt\n",
    "import numpy as np\n",
    "import os\n",
    "import PIL\n",
    "import tensorflow as tf\n",
    "\n",
    "from tensorflow import keras\n",
    "from tensorflow.keras import layers\n",
    "from tensorflow.keras.models import Sequential"
   ]
  },
  {
   "cell_type": "code",
   "execution_count": 37,
   "id": "51aee8b0-510b-4284-aba4-2bc76f7387f0",
   "metadata": {},
   "outputs": [
    {
     "data": {
      "text/plain": [
       "(50000, 32, 32, 3)"
      ]
     },
     "execution_count": 37,
     "metadata": {},
     "output_type": "execute_result"
    }
   ],
   "source": [
    "x_train.shape"
   ]
  },
  {
   "cell_type": "code",
   "execution_count": 38,
   "id": "904d5c72-59d1-4f0c-a288-cd0d0f63466a",
   "metadata": {},
   "outputs": [
    {
     "data": {
      "text/plain": [
       "(50000, 1)"
      ]
     },
     "execution_count": 38,
     "metadata": {},
     "output_type": "execute_result"
    }
   ],
   "source": [
    "y_train.shape"
   ]
  },
  {
   "cell_type": "code",
   "execution_count": 39,
   "id": "2bc3e485-d001-445d-a1d8-f405c6de1d26",
   "metadata": {},
   "outputs": [
    {
     "data": {
      "text/plain": [
       "(10000, 32, 32, 3)"
      ]
     },
     "execution_count": 39,
     "metadata": {},
     "output_type": "execute_result"
    }
   ],
   "source": [
    "x_test.shape"
   ]
  },
  {
   "cell_type": "code",
   "execution_count": 40,
   "id": "4b3c045b-3924-435b-bc7c-94d61384f5f1",
   "metadata": {},
   "outputs": [
    {
     "data": {
      "text/plain": [
       "(10000, 1)"
      ]
     },
     "execution_count": 40,
     "metadata": {},
     "output_type": "execute_result"
    }
   ],
   "source": [
    "y_test.shape"
   ]
  },
  {
   "cell_type": "code",
   "execution_count": 41,
   "id": "92c9d2ea-ae16-4047-b51f-052318e9efa6",
   "metadata": {},
   "outputs": [],
   "source": [
    "from matplotlib import pyplot as plt"
   ]
  },
  {
   "cell_type": "code",
   "execution_count": 42,
   "id": "393fa476-99a5-4067-bec0-2646ec9478d1",
   "metadata": {},
   "outputs": [
    {
     "name": "stdout",
     "output_type": "stream",
     "text": [
      "Label :  [7]\n"
     ]
    },
    {
     "data": {
      "text/plain": [
       "<matplotlib.image.AxesImage at 0x7f2fac5d24d0>"
      ]
     },
     "execution_count": 42,
     "metadata": {},
     "output_type": "execute_result"
    },
    {
     "data": {
      "image/png": "[encoded data removed]",
      "text/plain": [
       "<Figure size 432x288 with 1 Axes>"
      ]
     },
     "metadata": {
      "needs_background": "light"
     },
     "output_type": "display_data"
    }
   ],
   "source": [
    "pic_index=7\n",
    "img = x_train[pic_index]\n",
    "print(\"Label : \",y_train[pic_index])\n",
    "plt.imshow(img)"
   ]
  },
  {
   "cell_type": "code",
   "execution_count": 43,
   "id": "d0195a7c-d92f-4b4b-9e0d-7fd8e489a24c",
   "metadata": {},
   "outputs": [
    {
     "name": "stdout",
     "output_type": "stream",
     "text": [
      "Label frog\n"
     ]
    },
    {
     "data": {
      "text/plain": [
       "<matplotlib.image.AxesImage at 0x7f2fac617ca0>"
      ]
     },
     "execution_count": 43,
     "metadata": {},
     "output_type": "execute_result"
    },
    {
     "data": {
      "image/png": "[encoded data removed]",
      "text/plain": [
       "<Figure size 432x288 with 1 Axes>"
      ]
     },
     "metadata": {
      "needs_background": "light"
     },
     "output_type": "display_data"
    }
   ],
   "source": [
    "pic_index=0\n",
    "img=x_train[pic_index]\n",
    "print(\"Label\", class_names[y_train[pic_index][0]])\n",
    "plt.imshow(img)"
   ]
  },
  {
   "cell_type": "code",
   "execution_count": null,
   "id": "0dc1d69a-cca6-472c-90b1-a763a9a95f37",
   "metadata": {},
   "outputs": [],
   "source": []
  },
  {
   "cell_type": "code",
   "execution_count": 44,
   "id": "5071fa05-defb-4e81-8373-a945bb37353f",
   "metadata": {},
   "outputs": [],
   "source": [
    "# build model\n",
    "\n",
    "from tensorflow.keras.models import Sequential\n",
    "from tensorflow.keras.layers import Input, Dense, Conv2D, MaxPooling2D, Flatten\n",
    "from tensorflow.keras import layers\n",
    "\n",
    "num_classes = len(class_names)\n",
    "model = Sequential()\n",
    "model.add(Input(shape=(32,32,3)))\n",
    "\n",
    "#Adding first convolutional layer\n",
    "model.add(Conv2D(filters=64,kernel_size=(3,3),activation='relu'))\n",
    "\n",
    "#Adding Second convolutional layer\n",
    "model.add(Conv2D(filters=60,kernel_size=(3,3),activation='relu'))\n",
    "\n",
    "#Adding first max pooling layer\n",
    "model.add(MaxPooling2D((2,2)))\n",
    "\n",
    "#Adding first convolutional layer\n",
    "model.add(Conv2D(30,kernel_size=(3,3),activation='relu'))\n",
    "\n",
    "#Adding first convolutional layer\n",
    "model.add(Conv2D(32,kernel_size=(3,3),activation='relu'))\n",
    "\n",
    "#Adding second max pooling layer\n",
    "model.add(MaxPooling2D((2,2)))\n",
    "\n",
    "\n",
    "#Flatten the ouput from the convolutional layer\n",
    "model.add(Flatten())\n",
    "\n",
    "# Add the first fully connected layer with dropout\n",
    "model.add(Dense(128,activation='relu')) # fully connected\n",
    "layers.Dropout(0.2)\n",
    "\n",
    "# Add the first fully connected layer with dropout\n",
    "model.add(Dense(128,activation='softmax'))\n",
    "layers.Dropout(0.2)\n",
    "\n",
    "# Add the output (classification is num_classes which has number of elements to classify)\n",
    "model.add(Dense(num_classes,activation='softmax'))\n",
    "\n",
    "#Compile the model\n",
    "model.compile(loss='sparse_categorical_crossentropy',metrics=['accuracy'],optimizer='adam')\n"
   ]
  },
  {
   "cell_type": "code",
   "execution_count": 45,
   "id": "c09d371a-c6e8-4404-ab8c-aaf8c11fc932",
   "metadata": {},
   "outputs": [
    {
     "name": "stdout",
     "output_type": "stream",
     "text": [
      "Model: \"sequential_3\"\n",
      "_________________________________________________________________\n",
      " Layer (type)                Output Shape              Param #   \n",
      "=================================================================\n",
      " conv2d_12 (Conv2D)          (None, 30, 30, 64)        1792      \n",
      "                                                                 \n",
      " conv2d_13 (Conv2D)          (None, 28, 28, 60)        34620     \n",
      "                                                                 \n",
      " max_pooling2d_6 (MaxPoolin  (None, 14, 14, 60)        0         \n",
      " g2D)                                                            \n",
      "                                                                 \n",
      " conv2d_14 (Conv2D)          (None, 12, 12, 30)        16230     \n",
      "                                                                 \n",
      " conv2d_15 (Conv2D)          (None, 10, 10, 32)        8672      \n",
      "                                                                 \n",
      " max_pooling2d_7 (MaxPoolin  (None, 5, 5, 32)          0         \n",
      " g2D)                                                            \n",
      "                                                                 \n",
      " flatten_3 (Flatten)         (None, 800)               0         \n",
      "                                                                 \n",
      " dense_9 (Dense)             (None, 128)               102528    \n",
      "                                                                 \n",
      " dense_10 (Dense)            (None, 128)               16512     \n",
      "                                                                 \n",
      " dense_11 (Dense)            (None, 10)                1290      \n",
      "                                                                 \n",
      "=================================================================\n",
      "Total params: 181644 (709.55 KB)\n",
      "Trainable params: 181644 (709.55 KB)\n",
      "Non-trainable params: 0 (0.00 Byte)\n",
      "_________________________________________________________________\n"
     ]
    }
   ],
   "source": [
    "model.summary()"
   ]
  },
  {
   "cell_type": "code",
   "execution_count": 46,
   "id": "083517da-d98c-4c51-bb85-3447d7798743",
   "metadata": {},
   "outputs": [
    {
     "data": {
      "image/png": "[encoded data removed]",
      "text/plain": [
       "<Figure size 864x576 with 2 Axes>"
      ]
     },
     "metadata": {
      "needs_background": "light"
     },
     "output_type": "display_data"
    },
    {
     "name": "stdout",
     "output_type": "stream",
     "text": [
      "accuracy\n",
      "\ttraining         \t (min:    0.097, max:    0.101, cur:    0.099)\n",
      "\tvalidation       \t (min:    0.100, max:    0.100, cur:    0.100)\n",
      "Loss\n",
      "\ttraining         \t (min:    2.303, max:    2.304, cur:    2.303)\n",
      "\tvalidation       \t (min:    2.303, max:    2.303, cur:    2.303)\n",
      "782/782 [==============================] - 75s 96ms/step - loss: 2.3029 - accuracy: 0.0989 - val_loss: 2.3026 - val_accuracy: 0.1000\n"
     ]
    },
    {
     "data": {
      "text/plain": [
       "<keras.src.callbacks.History at 0x7f2fac32cca0>"
      ]
     },
     "execution_count": 46,
     "metadata": {},
     "output_type": "execute_result"
    }
   ],
   "source": [
    "# fit the model\n",
    "from livelossplot import PlotLossesKerasTF\n",
    "\n",
    "model.fit(x_train,y_train,epochs=10,batch_size=64,validation_data=(x_test,y_test),callbacks=[PlotLossesKerasTF()])"
   ]
  },
  {
   "cell_type": "code",
   "execution_count": 48,
   "id": "a89095a6-1327-448c-a945-385e0baf608d",
   "metadata": {},
   "outputs": [
    {
     "name": "stdout",
     "output_type": "stream",
     "text": [
      "313/313 [==============================] - 5s 15ms/step - loss: 2.3026 - accuracy: 0.1000\n",
      "Test Loss :  2.3026323318481445\n",
      "Test Accuracy :  0.10000000149011612\n"
     ]
    }
   ],
   "source": [
    "# Evalute the model\n",
    "\n",
    "test_loss,test_accuracy = model.evaluate(x_test,y_test)\n",
    "\n",
    "print(\"Test Loss : \", test_loss)\n",
    "print(\"Test Accuracy : \", test_accuracy)"
   ]
  },
  {
   "cell_type": "code",
   "execution_count": null,
   "id": "5935fa18-f1f7-4429-973e-79cee7f536d1",
   "metadata": {},
   "outputs": [],
   "source": []
  }
 ],
 "metadata": {
  "kernelspec": {
   "display_name": "Python 3 [3.10]",
   "language": "python",
   "name": "python3"
  },
  "language_info": {
   "codemirror_mode": {
    "name": "ipython",
    "version": 3
   },
   "file_extension": ".py",
   "mimetype": "text/x-python",
   "name": "python",
   "nbconvert_exporter": "python",
   "pygments_lexer": "ipython3",
   "version": "3.10.2"
  }
 },
 "nbformat": 4,
 "nbformat_minor": 5
}
